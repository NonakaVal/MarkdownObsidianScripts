{
 "cells": [
  {
   "cell_type": "code",
   "execution_count": 4,
   "id": "8bfab95a-a3c1-414a-948e-e1e4dab6d213",
   "metadata": {},
   "outputs": [
    {
     "name": "stdout",
     "output_type": "stream",
     "text": [
      "Arquivo salvo em: C:\\Users\\nonak\\Documents\\Thoughts\\_index_notas.md\n"
     ]
    }
   ],
   "source": [
    "import os\n",
    "from collections import defaultdict\n",
    "\n",
    "def contar_palavras(texto):\n",
    "    return len(texto.split())\n",
    "\n",
    "def listar_notas_markdown_organizadas(pasta_raiz):\n",
    "    notas_por_pasta = defaultdict(list)\n",
    "    contagem_palavras_por_pasta = defaultdict(int)\n",
    "    total_palavras_geral = 0\n",
    "\n",
    "    for raiz, _, arquivos in os.walk(pasta_raiz):\n",
    "        caminho_relativo = os.path.relpath(raiz, pasta_raiz)\n",
    "        for arquivo in arquivos:\n",
    "            if arquivo.endswith(\".md\"):\n",
    "                caminho_completo = os.path.join(raiz, arquivo)\n",
    "                nome_nota = os.path.splitext(arquivo)[0]\n",
    "                \n",
    "                with open(caminho_completo, 'r', encoding='utf-8') as f:\n",
    "                    conteudo = f.read()\n",
    "                    palavras = contar_palavras(conteudo)\n",
    "                    total_palavras_geral += palavras\n",
    "                    contagem_palavras_por_pasta[caminho_relativo] += palavras\n",
    "                    notas_por_pasta[caminho_relativo].append((nome_nota, palavras))\n",
    "\n",
    "    return notas_por_pasta, contagem_palavras_por_pasta, total_palavras_geral\n",
    "\n",
    "def salvar_em_markdown(notas_organizadas, contagem_por_pasta, total_geral, caminho_saida):\n",
    "    with open(caminho_saida, 'w', encoding='utf-8') as f:\n",
    "        f.write(f\"# Índice de Notas Markdown\\n\\n\")\n",
    "        for pasta, notas in sorted(notas_organizadas.items()):\n",
    "            titulo_pasta = pasta if pasta != '.' else '[raiz]'\n",
    "            f.write(f\"### {titulo_pasta} — {len(notas)} notas\\n\")\n",
    "            for nome_nota, palavras in sorted(notas):\n",
    "                f.write(f\"- [{nome_nota}] — {palavras} palavras\\n\")\n",
    "            f.write(f\"\\n**Total nesta pasta**: {contagem_por_pasta[pasta]} palavras\\n\\n\")\n",
    "\n",
    "        f.write(\"---\\n\")\n",
    "        f.write(f\"## 📊 Total geral: {total_geral} palavras\\n\")\n",
    "\n",
    "# Caminhos\n",
    "caminho_da_pasta = r\"C:\\Users\\nonak\\Documents\\Thoughts\"\n",
    "caminho_arquivo_saida = os.path.join(caminho_da_pasta, \"_index_notas.md\")\n",
    "\n",
    "# Execução\n",
    "notas_organizadas, contagem_por_pasta, total_palavras = listar_notas_markdown_organizadas(caminho_da_pasta)\n",
    "salvar_em_markdown(notas_organizadas, contagem_por_pasta, total_palavras, caminho_arquivo_saida)\n",
    "\n",
    "print(f\"Arquivo salvo em: {caminho_arquivo_saida}\")\n"
   ]
  },
  {
   "cell_type": "code",
   "execution_count": null,
   "id": "0d857c5d-2ed8-4168-91a5-a0781de7d3d6",
   "metadata": {},
   "outputs": [],
   "source": []
  }
 ],
 "metadata": {
  "kernelspec": {
   "display_name": "Python [conda env:base] *",
   "language": "python",
   "name": "conda-base-py"
  },
  "language_info": {
   "codemirror_mode": {
    "name": "ipython",
    "version": 3
   },
   "file_extension": ".py",
   "mimetype": "text/x-python",
   "name": "python",
   "nbconvert_exporter": "python",
   "pygments_lexer": "ipython3",
   "version": "3.12.7"
  }
 },
 "nbformat": 4,
 "nbformat_minor": 5
}
