{
 "cells": [
  {
   "cell_type": "code",
   "execution_count": null,
   "id": "c4adca7f-342d-4000-935c-b22898896c3c",
   "metadata": {},
   "outputs": [],
   "source": [
    "import os"
   ]
  },
  {
   "cell_type": "code",
   "execution_count": null,
   "id": "885e9a88-1eb9-42ef-8ebb-4c685b82408e",
   "metadata": {},
   "outputs": [],
   "source": [
    "# Remover um texto específico de arquivos Markdown\n",
    "def remove_text_from_markdown(directory, target_text):\n",
    "    for root, _, files in os.walk(directory):\n",
    "        for file in files:\n",
    "            if file.endswith(\".md\"):\n",
    "                file_path = os.path.join(root, file)\n",
    "                with open(file_path, 'r', encoding='utf-8') as f:\n",
    "                    content = f.read()\n",
    "\n",
    "                updated_content = content.replace(target_text, '')\n",
    "\n",
    "                if content != updated_content:\n",
    "                    with open(file_path, 'w', encoding='utf-8') as f:\n",
    "                        f.write(updated_content)\n",
    "                    print(f\"Updated: {file_path}\")\n",
    "\n",
    "directory_to_scan = r\"C:\\Users\\nonak\\OneDrive\\Área de Trabalho\\ObsidianNotesF\\DailyNotes\"\n",
    "target_text_to_remove = \"[[!_atlas_math_statistics]]\"\n",
    "\n",
    "# remove_text_from_markdown(directory_to_scan, target_text_to_remove)"
   ]
  },
  {
   "cell_type": "code",
   "execution_count": null,
   "id": "7aaa4866-1b8c-48b1-b05c-924ae8284529",
   "metadata": {},
   "outputs": [],
   "source": [
    "# Remover e refazer cabeçalho em arquivos Markdown\n",
    "def clean_and_update_markdown_notes(directory, new_header):\n",
    "    for root, _, files in os.walk(directory):\n",
    "        for file in files:\n",
    "            if file.endswith(\".md\"):\n",
    "                file_path = os.path.join(root, file)\n",
    "                with open(file_path, 'r', encoding='utf-8') as f:\n",
    "                    content = f.read()\n",
    "\n",
    "                if content.startswith(\"---\"):\n",
    "                    end_of_header = content.find(\"---\", 3)\n",
    "                    if end_of_header != -1:\n",
    "                        content = content[end_of_header + 3:].lstrip()\n",
    "\n",
    "                updated_content = new_header + \"\\n\" + content\n",
    "\n",
    "                with open(file_path, 'w', encoding='utf-8') as f:\n",
    "                    f.write(updated_content)\n",
    "                print(f\"Updated: {file_path}\")\n",
    "\n",
    "directory_to_scan = r\"C:\\Users\\nonak\\OneDrive\\Área de Trabalho\\ObsidianNotesF\\Assets\\FirstVault\\marketing\"\n",
    "new_header = \"\"\"---\n",
    "tags:\n",
    "  - lab\n",
    "HUB:\n",
    "  - \"[[hub-mkt]]\"\n",
    "---\"\"\"\n",
    "\n",
    "# clean_and_update_markdown_notes(directory_to_scan, new_header)"
   ]
  },
  {
   "cell_type": "code",
   "execution_count": null,
   "id": "7063bc82-00e6-4034-8ce7-a10642dd4bd7",
   "metadata": {},
   "outputs": [],
   "source": []
  }
 ],
 "metadata": {
  "kernelspec": {
   "display_name": "Python 3 (ipykernel)",
   "language": "python",
   "name": "python3"
  },
  "language_info": {
   "codemirror_mode": {
    "name": "ipython",
    "version": 3
   },
   "file_extension": ".py",
   "mimetype": "text/x-python",
   "name": "python",
   "nbconvert_exporter": "python",
   "pygments_lexer": "ipython3",
   "version": "3.12.7"
  }
 },
 "nbformat": 4,
 "nbformat_minor": 5
}
