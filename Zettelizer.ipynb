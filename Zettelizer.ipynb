{
 "cells": [
  {
   "cell_type": "code",
   "execution_count": 10,
   "id": "d6e28cbb-9dd4-4443-a39e-f40e3b8bdf05",
   "metadata": {},
   "outputs": [
    {
     "name": "stdout",
     "output_type": "stream",
     "text": [
      "\n",
      "📄 Processando: H:\\Outros computadores\\Meu computador\\Thoughts\\test\\exemplo.md\n",
      "✅ Criado: H:\\Outros computadores\\Meu computador\\Thoughts\\test\\1. 📊 Verifique o uso no Gerenciador de Tarefas.md\n",
      "✅ Criado: H:\\Outros computadores\\Meu computador\\Thoughts\\test\\2. 🧹 Desative o SysMain (antigo Superfetch).md\n",
      "✅ Criado: H:\\Outros computadores\\Meu computador\\Thoughts\\test\\3. 🔍 Desative a Pesquisa do Windows.md\n",
      "✅ Criado: H:\\Outros computadores\\Meu computador\\Thoughts\\test\\4. 🧪 Verifique o disco por erros.md\n",
      "✅ Criado: H:\\Outros computadores\\Meu computador\\Thoughts\\test\\5. ⚙️ Desative Dicas do Windows.md\n",
      "✅ Criado: H:\\Outros computadores\\Meu computador\\Thoughts\\test\\6. 🔌 Desative inicialização rápida.md\n",
      "✅ Criado: H:\\Outros computadores\\Meu computador\\Thoughts\\test\\7. 🌐 Atualize o Windows e os drivers.md\n",
      "✅ Criado: H:\\Outros computadores\\Meu computador\\Thoughts\\test\\8. 💣 Verifique programas em segundo plano.md\n",
      "✅ Criado: H:\\Outros computadores\\Meu computador\\Thoughts\\test\\9. ⚡ Troque o HD por um SSD.md\n",
      "📝 Atualizado: H:\\Outros computadores\\Meu computador\\Thoughts\\test\\exemplo.md\n"
     ]
    }
   ],
   "source": [
    "import os\n",
    "import re\n",
    "\n",
    "CAMINHO_PASTA = r\"H:\\Outros computadores\\Meu computador\\Thoughts\\test\"  # <- ajuste seu caminho aqui\n",
    "\n",
    "def sanitizar_nome_arquivo(nome):\n",
    "    return re.sub(r'[\\\\/#%&{}<>*?$\\'\":@]', '', nome).strip()\n",
    "\n",
    "def extrair_secoes(conteudo):\n",
    "    # Encontra todas as seções iniciadas com ### até o próximo ### ou fim do texto\n",
    "    padrao = r\"(### .+?)(?=\\n### |\\Z)\"\n",
    "    secoes = re.findall(padrao, conteudo, flags=re.DOTALL)\n",
    "    return secoes\n",
    "\n",
    "def processar_arquivo(caminho):\n",
    "    with open(caminho, 'r', encoding='utf-8') as f:\n",
    "        conteudo = f.read()\n",
    "\n",
    "    secoes = extrair_secoes(conteudo)\n",
    "    if not secoes:\n",
    "        return\n",
    "\n",
    "    novo_conteudo = conteudo\n",
    "    pasta_destino = os.path.dirname(caminho)  # ← Agora salva na mesma pasta da nota principal\n",
    "\n",
    "    for secao in secoes:\n",
    "        linha_header = secao.splitlines()[0]\n",
    "        titulo = linha_header.replace(\"###\", \"\").strip()\n",
    "        nome_arquivo = sanitizar_nome_arquivo(titulo) + \".md\"\n",
    "        caminho_novo = os.path.join(pasta_destino, nome_arquivo)\n",
    "\n",
    "        # Cria nova nota\n",
    "        with open(caminho_novo, 'w', encoding='utf-8') as f_out:\n",
    "            f_out.write(secao.strip())\n",
    "\n",
    "        # Substitui no conteúdo original\n",
    "        novo_conteudo = novo_conteudo.replace(secao.strip(), f\"![[{titulo}]]\")\n",
    "\n",
    "        print(f\"✅ Criado: {caminho_novo}\")\n",
    "\n",
    "    # Atualiza a nota base\n",
    "    with open(caminho, 'w', encoding='utf-8') as f:\n",
    "        f.write(novo_conteudo)\n",
    "    print(f\"📝 Atualizado: {caminho}\")\n",
    "\n",
    "\n",
    "def processar_todos(caminho_base):\n",
    "    for raiz, _, arquivos in os.walk(caminho_base):\n",
    "        for arquivo in arquivos:\n",
    "            if arquivo.endswith(\".md\"):\n",
    "                caminho_completo = os.path.join(raiz, arquivo)\n",
    "                print(f\"\\n📄 Processando: {caminho_completo}\")\n",
    "                processar_arquivo(caminho_completo)\n",
    "\n",
    "if __name__ == \"__main__\":\n",
    "    processar_todos(CAMINHO_PASTA)\n"
   ]
  },
  {
   "cell_type": "code",
   "execution_count": null,
   "id": "e259e3ac-9009-4673-9d7f-844ba0b2615b",
   "metadata": {},
   "outputs": [],
   "source": []
  }
 ],
 "metadata": {
  "kernelspec": {
   "display_name": "Python [conda env:base] *",
   "language": "python",
   "name": "conda-base-py"
  },
  "language_info": {
   "codemirror_mode": {
    "name": "ipython",
    "version": 3
   },
   "file_extension": ".py",
   "mimetype": "text/x-python",
   "name": "python",
   "nbconvert_exporter": "python",
   "pygments_lexer": "ipython3",
   "version": "3.12.7"
  }
 },
 "nbformat": 4,
 "nbformat_minor": 5
}
