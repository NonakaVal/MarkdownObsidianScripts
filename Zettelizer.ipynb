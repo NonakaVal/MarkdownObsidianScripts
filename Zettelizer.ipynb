{
 "cells": [
  {
   "cell_type": "code",
   "execution_count": 10,
   "id": "d6e28cbb-9dd4-4443-a39e-f40e3b8bdf05",
   "metadata": {},
   "outputs": [
    {
     "name": "stdout",
     "output_type": "stream",
     "text": [
      "\n",
      "📄 Processando: H:\\Outros computadores\\Meu computador\\Thoughts\\test\\exemplo.md\n",
      "✅ Criado: H:\\Outros computadores\\Meu computador\\Thoughts\\test\\1. 📊 Verifique o uso no Gerenciador de Tarefas.md\n",
      "✅ Criado: H:\\Outros computadores\\Meu computador\\Thoughts\\test\\2. 🧹 Desative o SysMain (antigo Superfetch).md\n",
      "✅ Criado: H:\\Outros computadores\\Meu computador\\Thoughts\\test\\3. 🔍 Desative a Pesquisa do Windows.md\n",
      "✅ Criado: H:\\Outros computadores\\Meu computador\\Thoughts\\test\\4. 🧪 Verifique o disco por erros.md\n",
      "✅ Criado: H:\\Outros computadores\\Meu computador\\Thoughts\\test\\5. ⚙️ Desative Dicas do Windows.md\n",
      "✅ Criado: H:\\Outros computadores\\Meu computador\\Thoughts\\test\\6. 🔌 Desative inicialização rápida.md\n",
      "✅ Criado: H:\\Outros computadores\\Meu computador\\Thoughts\\test\\7. 🌐 Atualize o Windows e os drivers.md\n",
      "✅ Criado: H:\\Outros computadores\\Meu computador\\Thoughts\\test\\8. 💣 Verifique programas em segundo plano.md\n",
      "✅ Criado: H:\\Outros computadores\\Meu computador\\Thoughts\\test\\9. ⚡ Troque o HD por um SSD.md\n",
      "📝 Atualizado: H:\\Outros computadores\\Meu computador\\Thoughts\\test\\exemplo.md\n"
     ]
    }
   ],
   "source": [
    "import os\n",
    "import re\n",
    "\n",
    "CAMINHO_PASTA = r\"H:\\Outros computadores\\Meu computador\\Thoughts\\test\"  # <- ajuste seu caminho aqui\n",
    "\n",
    "def sanitizar_nome_arquivo(nome):\n",
    "    return re.sub(r'[\\\\/#%&{}<>*?$\\'\":@]', '', nome).strip()\n",
    "\n",
    "def extrair_secoes(conteudo):\n",
    "    # Encontra todas as seções iniciadas com ### até o próximo ### ou fim do texto\n",
    "    padrao = r\"(### .+?)(?=\\n### |\\Z)\"\n",
    "    secoes = re.findall(padrao, conteudo, flags=re.DOTALL)\n",
    "    return secoes\n",
    "\n",
    "def processar_arquivo(caminho):\n",
    "    with open(caminho, 'r', encoding='utf-8') as f:\n",
    "        conteudo = f.read()\n",
    "\n",
    "    secoes = extrair_secoes(conteudo)\n",
    "    if not secoes:\n",
    "        return\n",
    "\n",
    "    novo_conteudo = conteudo\n",
    "    pasta_destino = os.path.dirname(caminho)  # ← Agora salva na mesma pasta da nota principal\n",
    "\n",
    "    for secao in secoes:\n",
    "        linha_header = secao.splitlines()[0]\n",
    "        titulo = linha_header.replace(\"###\", \"\").strip()\n",
    "        nome_arquivo = sanitizar_nome_arquivo(titulo) + \".md\"\n",
    "        caminho_novo = os.path.join(pasta_destino, nome_arquivo)\n",
    "\n",
    "        # Cria nova nota\n",
    "        with open(caminho_novo, 'w', encoding='utf-8') as f_out:\n",
    "            f_out.write(secao.strip())\n",
    "\n",
    "        # Substitui no conteúdo original\n",
    "        novo_conteudo = novo_conteudo.replace(secao.strip(), f\"![[{titulo}]]\")\n",
    "\n",
    "        print(f\"✅ Criado: {caminho_novo}\")\n",
    "\n",
    "    # Atualiza a nota base\n",
    "    with open(caminho, 'w', encoding='utf-8') as f:\n",
    "        f.write(novo_conteudo)\n",
    "    print(f\"📝 Atualizado: {caminho}\")\n",
    "\n",
    "\n",
    "def processar_todos(caminho_base):\n",
    "    for raiz, _, arquivos in os.walk(caminho_base):\n",
    "        for arquivo in arquivos:\n",
    "            if arquivo.endswith(\".md\"):\n",
    "                caminho_completo = os.path.join(raiz, arquivo)\n",
    "                print(f\"\\n📄 Processando: {caminho_completo}\")\n",
    "                processar_arquivo(caminho_completo)\n",
    "\n",
    "if __name__ == \"__main__\":\n",
    "    processar_todos(CAMINHO_PASTA)\n"
   ]
  },
  {
   "cell_type": "code",
   "execution_count": 11,
   "id": "1d9b3f64-f268-44d8-b4cb-d788e3fde0c0",
   "metadata": {},
   "outputs": [
    {
     "name": "stdout",
     "output_type": "stream",
     "text": [
      "Updated: H:\\Outros computadores\\Meu computador\\Thoughts\\Test\\exemplo.md\n",
      "Updated: H:\\Outros computadores\\Meu computador\\Thoughts\\Test\\1. 📊 Verifique o uso no Gerenciador de Tarefas.md\n",
      "Updated: H:\\Outros computadores\\Meu computador\\Thoughts\\Test\\2. 🧹 Desative o SysMain (antigo Superfetch).md\n",
      "Updated: H:\\Outros computadores\\Meu computador\\Thoughts\\Test\\3. 🔍 Desative a Pesquisa do Windows.md\n",
      "Updated: H:\\Outros computadores\\Meu computador\\Thoughts\\Test\\4. 🧪 Verifique o disco por erros.md\n",
      "Updated: H:\\Outros computadores\\Meu computador\\Thoughts\\Test\\5. ⚙️ Desative Dicas do Windows.md\n",
      "Updated: H:\\Outros computadores\\Meu computador\\Thoughts\\Test\\6. 🔌 Desative inicialização rápida.md\n",
      "Updated: H:\\Outros computadores\\Meu computador\\Thoughts\\Test\\7. 🌐 Atualize o Windows e os drivers.md\n",
      "Updated: H:\\Outros computadores\\Meu computador\\Thoughts\\Test\\8. 💣 Verifique programas em segundo plano.md\n",
      "Updated: H:\\Outros computadores\\Meu computador\\Thoughts\\Test\\9. ⚡ Troque o HD por um SSD.md\n"
     ]
    }
   ],
   "source": [
    "# Remover e refazer cabeçalho em arquivos Markdown\n",
    "def clean_and_update_markdown_notes(directory, new_header):\n",
    "    for root, _, files in os.walk(directory):\n",
    "        for file in files:\n",
    "            if file.endswith(\".md\"):\n",
    "                file_path = os.path.join(root, file)\n",
    "                with open(file_path, 'r', encoding='utf-8') as f:\n",
    "                    content = f.read()\n",
    "\n",
    "                if content.startswith(\"---\"):\n",
    "                    end_of_header = content.find(\"---\", 3)\n",
    "                    if end_of_header != -1:\n",
    "                        content = content[end_of_header + 3:].lstrip()\n",
    "\n",
    "                updated_content = new_header + \"\\n\" + content\n",
    "\n",
    "                with open(file_path, 'w', encoding='utf-8') as f:\n",
    "                    f.write(updated_content)\n",
    "                print(f\"Updated: {file_path}\")\n",
    "\n",
    "directory_to_scan = r\"H:\\Outros computadores\\Meu computador\\Thoughts\\Test\"\n",
    "new_header = \"\"\"---\n",
    "tags:\n",
    "  - test\n",
    "HUB:\n",
    "  - \"[[hub-test]]\"\n",
    "---\"\"\"\n",
    "\n",
    "clean_and_update_markdown_notes(directory_to_scan, new_header)"
   ]
  },
  {
   "cell_type": "code",
   "execution_count": null,
   "id": "e259e3ac-9009-4673-9d7f-844ba0b2615b",
   "metadata": {},
   "outputs": [],
   "source": []
  }
 ],
 "metadata": {
  "kernelspec": {
   "display_name": "Python 3 (ipykernel)",
   "language": "python",
   "name": "python3"
  },
  "language_info": {
   "codemirror_mode": {
    "name": "ipython",
    "version": 3
   },
   "file_extension": ".py",
   "mimetype": "text/x-python",
   "name": "python",
   "nbconvert_exporter": "python",
   "pygments_lexer": "ipython3",
   "version": "3.12.7"
  }
 },
 "nbformat": 4,
 "nbformat_minor": 5
}
